{
  "cells": [
    {
      "cell_type": "markdown",
      "metadata": {
        "id": "LlrEjmtJNpuX"
      },
      "source": [
        "# LlamaIndex re-ranker and Elasticsearch re-ranker: Comparison review\n",
        "\n",
        "This notebook demonstrates how to use AutoGen with Elasticsearch. This notebook is based on the article [LlamaIndex re-ranker and Elasticsearch re-ranker: Comparison review](https://www.elastic.co/search-labs/blog/llamaIndex-reranker-and-elasticsearch-reranker-comparison-review)."
      ]
    },
    {
      "cell_type": "markdown",
      "metadata": {
        "id": "GNaAN-GNO5qp"
      },
      "source": [
        "## Installing dependencies and importing packages"
      ]
    },
    {
      "cell_type": "code",
      "execution_count": null,
      "metadata": {
        "colab": {
          "base_uri": "https://localhost:8080/"
        },
        "collapsed": true,
        "id": "D1SqWMbbASRS",
        "outputId": "8ab3bb5d-5d3c-4244-f14c-c303c7ab4f6f"
      },
      "outputs": [],
      "source": [
        "%pip install elasticsearch==8.17 llama-index-core llama-index-llms-openai rank-llm llama-index-postprocessor-rankgpt-rerank llama-index-embeddings-openai"
      ]
    },
    {
      "cell_type": "code",
      "execution_count": null,
      "metadata": {
        "id": "rAesontNXpLu"
      },
      "outputs": [],
      "source": [
        "import json\n",
        "import os\n",
        "import nest_asyncio\n",
        "from getpass import getpass\n",
        "\n",
        "\n",
        "from elasticsearch import Elasticsearch\n",
        "from elasticsearch.helpers import bulk\n",
        "\n",
        "from llama_index.core import Document, VectorStoreIndex, QueryBundle, Settings\n",
        "from llama_index.core.retrievers import VectorIndexRetriever\n",
        "from llama_index.postprocessor.rankgpt_rerank import RankGPTRerank\n",
        "from llama_index.llms.openai import OpenAI\n",
        "\n",
        "\n",
        "nest_asyncio.apply()"
      ]
    },
    {
      "cell_type": "markdown",
      "metadata": {
        "id": "NwOmnk99Pfh3"
      },
      "source": [
        "## Declaring variables"
      ]
    },
    {
      "cell_type": "code",
      "execution_count": null,
      "metadata": {
        "id": "GVKJKfFpPWuj"
      },
      "outputs": [],
      "source": [
        "os.environ[\"ELASTICSEARCH_ENDPOINT\"] = getpass(\"Elastic Endpoint: \")\n",
        "os.environ[\"ELASTICSEARCH_API_KEY\"] = getpass(\"Elastic Api Key: \")\n",
        "os.environ[\"OPENAI_API_KEY\"] = getpass(\"OpenAI Key: \")\n",
        "\n",
        "INDEX_NAME = \"products-laptops\"\n",
        "INFERENCE_RERANK_NAME = \"my-elastic-rerank\""
      ]
    },
    {
      "cell_type": "markdown",
      "metadata": {
        "id": "3O2HclcYHEsS"
      },
      "source": [
        "### Instance a Elasticsearch client"
      ]
    },
    {
      "cell_type": "code",
      "execution_count": null,
      "metadata": {
        "id": "EHYHU2-1nUeW"
      },
      "outputs": [],
      "source": [
        "# Elasticsearch client\n",
        "_client = Elasticsearch(\n",
        "    os.environ[\"ELASTICSEARCH_ENDPOINT\"],\n",
        "    api_key=os.environ[\"ELASTICSEARCH_API_KEY\"],\n",
        ")"
      ]
    },
    {
      "cell_type": "markdown",
      "metadata": {},
      "source": [
        "## Defining dataset"
      ]
    },
    {
      "cell_type": "code",
      "execution_count": null,
      "metadata": {
        "id": "LVr6TR8qlw2M"
      },
      "outputs": [],
      "source": [
        "products = [\n",
        "    {\n",
        "        \"name\": \"ASUS ROG Strix G16\",\n",
        "        \"description\": \"Powerful gaming laptop with Intel Core i9 and RTX 4070.\",\n",
        "        \"price\": 1899.99,\n",
        "        \"reviews\": 4.7,\n",
        "        \"sales\": 320,\n",
        "        \"features\": [\n",
        "            \"Intel Core i9\",\n",
        "            \"RTX 4070\",\n",
        "            \"16GB RAM\",\n",
        "            \"512GB SSD\",\n",
        "            \"165Hz Display\",\n",
        "        ],\n",
        "    },\n",
        "    {\n",
        "        \"name\": \"Razer Blade 15\",\n",
        "        \"description\": \"Premium gaming laptop with an ultra-slim design and high refresh rate.\",\n",
        "        \"price\": 2499.99,\n",
        "        \"reviews\": 4.6,\n",
        "        \"sales\": 290,\n",
        "        \"features\": [\n",
        "            \"Intel Core i7\",\n",
        "            \"RTX 4060\",\n",
        "            \"16GB RAM\",\n",
        "            \"1TB SSD\",\n",
        "            \"240Hz Display\",\n",
        "        ],\n",
        "    },\n",
        "    {\n",
        "        \"name\": \"Acer Predator Helios 300\",\n",
        "        \"description\": \"Affordable yet powerful gaming laptop with RTX graphics.\",\n",
        "        \"price\": 1399.99,\n",
        "        \"reviews\": 4.5,\n",
        "        \"sales\": 500,\n",
        "        \"features\": [\n",
        "            \"Intel Core i7\",\n",
        "            \"RTX 3060\",\n",
        "            \"16GB RAM\",\n",
        "            \"512GB SSD\",\n",
        "            \"144Hz Display\",\n",
        "        ],\n",
        "    },\n",
        "    {\n",
        "        \"name\": \"MSI Stealth 17\",\n",
        "        \"description\": \"High-performance gaming laptop with a 17-inch display.\",\n",
        "        \"price\": 2799.99,\n",
        "        \"reviews\": 4.8,\n",
        "        \"sales\": 200,\n",
        "        \"features\": [\"Intel Core i9\", \"RTX 4080\", \"32GB RAM\", \"1TB SSD\", \"4K Display\"],\n",
        "    },\n",
        "    {\n",
        "        \"name\": \"Dell XPS 15\",\n",
        "        \"description\": \"Sleek and powerful ultrabook with a high-resolution display.\",\n",
        "        \"price\": 2199.99,\n",
        "        \"reviews\": 4.7,\n",
        "        \"sales\": 350,\n",
        "        \"features\": [\n",
        "            \"Intel Core i7\",\n",
        "            \"RTX 3050 Ti\",\n",
        "            \"16GB RAM\",\n",
        "            \"1TB SSD\",\n",
        "            \"OLED Display\",\n",
        "        ],\n",
        "    },\n",
        "    {\n",
        "        \"name\": \"HP Omen 16\",\n",
        "        \"description\": \"Gaming laptop with a balanced price-to-performance ratio.\",\n",
        "        \"price\": 1599.99,\n",
        "        \"reviews\": 4.4,\n",
        "        \"sales\": 280,\n",
        "        \"features\": [\n",
        "            \"AMD Ryzen 7\",\n",
        "            \"RTX 3060\",\n",
        "            \"16GB RAM\",\n",
        "            \"512GB SSD\",\n",
        "            \"165Hz Display\",\n",
        "        ],\n",
        "    },\n",
        "    {\n",
        "        \"name\": \"Lenovo Legion 5 Pro\",\n",
        "        \"description\": \"Powerful Ryzen-powered gaming laptop with high refresh rate.\",\n",
        "        \"price\": 1799.99,\n",
        "        \"reviews\": 4.6,\n",
        "        \"sales\": 400,\n",
        "        \"features\": [\n",
        "            \"AMD Ryzen 9\",\n",
        "            \"RTX 3070 Ti\",\n",
        "            \"16GB RAM\",\n",
        "            \"1TB SSD\",\n",
        "            \"165Hz Display\",\n",
        "        ],\n",
        "    },\n",
        "    {\n",
        "        \"name\": \"MacBook Pro 16\",\n",
        "        \"description\": \"Apple's most powerful laptop with M3 Max chip.\",\n",
        "        \"price\": 3499.99,\n",
        "        \"reviews\": 4.9,\n",
        "        \"sales\": 500,\n",
        "        \"features\": [\n",
        "            \"Apple M3 Max\",\n",
        "            \"32GB RAM\",\n",
        "            \"1TB SSD\",\n",
        "            \"Liquid Retina XDR Display\",\n",
        "        ],\n",
        "    },\n",
        "    {\n",
        "        \"name\": \"Alienware m18\",\n",
        "        \"description\": \"High-end gaming laptop with extreme performance.\",\n",
        "        \"price\": 2999.99,\n",
        "        \"reviews\": 4.8,\n",
        "        \"sales\": 150,\n",
        "        \"features\": [\n",
        "            \"Intel Core i9\",\n",
        "            \"RTX 4090\",\n",
        "            \"32GB RAM\",\n",
        "            \"2TB SSD\",\n",
        "            \"480Hz Display\",\n",
        "        ],\n",
        "    },\n",
        "    {\n",
        "        \"name\": \"Samsung Galaxy Book3 Ultra\",\n",
        "        \"description\": \"Ultra-lightweight yet powerful laptop with AMOLED display.\",\n",
        "        \"price\": 2099.99,\n",
        "        \"reviews\": 4.5,\n",
        "        \"sales\": 180,\n",
        "        \"features\": [\n",
        "            \"Intel Core i7\",\n",
        "            \"RTX 4070\",\n",
        "            \"16GB RAM\",\n",
        "            \"512GB SSD\",\n",
        "            \"AMOLED Display\",\n",
        "        ],\n",
        "    },\n",
        "    {\n",
        "        \"name\": \"Microsoft Surface Laptop 5\",\n",
        "        \"description\": \"Sleek productivity laptop with great battery life.\",\n",
        "        \"price\": 1699.99,\n",
        "        \"reviews\": 4.3,\n",
        "        \"sales\": 220,\n",
        "        \"features\": [\"Intel Core i7\", \"16GB RAM\", \"512GB SSD\", \"Touchscreen\"],\n",
        "    },\n",
        "    {\n",
        "        \"name\": \"Gigabyte AORUS 17\",\n",
        "        \"description\": \"Performance-focused gaming laptop with powerful cooling.\",\n",
        "        \"price\": 1999.99,\n",
        "        \"reviews\": 4.6,\n",
        "        \"sales\": 250,\n",
        "        \"features\": [\n",
        "            \"Intel Core i9\",\n",
        "            \"RTX 4070\",\n",
        "            \"16GB RAM\",\n",
        "            \"1TB SSD\",\n",
        "            \"360Hz Display\",\n",
        "        ],\n",
        "    },\n",
        "]"
      ]
    },
    {
      "cell_type": "markdown",
      "metadata": {},
      "source": [
        "## Indexing documents to Elasticsearch"
      ]
    },
    {
      "cell_type": "code",
      "execution_count": null,
      "metadata": {},
      "outputs": [],
      "source": [
        "# Creating mapping for the index\n",
        "try:\n",
        "    _client.indices.create(\n",
        "        index=INDEX_NAME,\n",
        "        body={\n",
        "            \"mappings\": {\n",
        "                \"properties\": {\n",
        "                    \"name\": {\"type\": \"text\", \"copy_to\": \"semantic_field\"},\n",
        "                    \"description\": {\"type\": \"text\", \"copy_to\": \"semantic_field\"},\n",
        "                    \"price\": {\"type\": \"float\", \"copy_to\": \"semantic_field\"},\n",
        "                    \"reviews\": {\"type\": \"float\", \"copy_to\": \"semantic_field\"},\n",
        "                    \"sales\": {\"type\": \"integer\", \"copy_to\": \"semantic_field\"},\n",
        "                    \"features\": {\"type\": \"keyword\", \"copy_to\": \"semantic_field\"},\n",
        "                    \"semantic_field\": {\"type\": \"semantic_text\"},\n",
        "                }\n",
        "            }\n",
        "        },\n",
        "    )\n",
        "\n",
        "    print(\"index created successfully\")\n",
        "except Exception as e:\n",
        "    print(\n",
        "        f\"Error creating inference endpoint: {e.info['error']['root_cause'][0]['reason'] }\"\n",
        "    )"
      ]
    },
    {
      "cell_type": "code",
      "execution_count": null,
      "metadata": {},
      "outputs": [],
      "source": [
        "# Creating inference endpoint for re-ranking\n",
        "try:\n",
        "    _client.options(\n",
        "        request_timeout=60, max_retries=3, retry_on_timeout=True\n",
        "    ).inference.put(\n",
        "        task_type=\"rerank\",\n",
        "        inference_id=INFERENCE_RERANK_NAME,\n",
        "        body={\n",
        "            \"service\": \"elasticsearch\",\n",
        "            \"service_settings\": {\n",
        "                \"model_id\": \".rerank-v1\",\n",
        "                \"num_threads\": 1,\n",
        "                \"adaptive_allocations\": {\n",
        "                    \"enabled\": True,\n",
        "                    \"min_number_of_allocations\": 1,\n",
        "                    \"max_number_of_allocations\": 4,\n",
        "                },\n",
        "            },\n",
        "        },\n",
        "    )\n",
        "\n",
        "    print(\"Inference endpoint created successfully.\")\n",
        "\n",
        "except Exception as e:\n",
        "    print(\n",
        "        f\"Error creating inference endpoint: {e.info['error']['root_cause'][0]['reason'] }\"\n",
        "    )"
      ]
    },
    {
      "cell_type": "code",
      "execution_count": null,
      "metadata": {},
      "outputs": [],
      "source": [
        "def build_data():\n",
        "    for doc in products:\n",
        "        yield {\"_index\": INDEX_NAME, \"_source\": doc}\n",
        "\n",
        "\n",
        "try:\n",
        "    success, errors = bulk(_client, build_data())\n",
        "    print(f\"{success} documents indexed successfully\")\n",
        "\n",
        "    if errors:\n",
        "        print(\"Errors during indexing:\", errors)\n",
        "\n",
        "except Exception as e:\n",
        "    print(f\"Error: {str(e)}\")"
      ]
    },
    {
      "cell_type": "markdown",
      "metadata": {
        "id": "P53v_KzjH9Ab"
      },
      "source": [
        "## LlamaIndex re-rankers"
      ]
    },
    {
      "cell_type": "code",
      "execution_count": null,
      "metadata": {},
      "outputs": [],
      "source": [
        "rerank_promt = \"Best laptops for developers and designers\""
      ]
    },
    {
      "cell_type": "markdown",
      "metadata": {
        "id": "EIvU-vxKpKhy"
      },
      "source": [
        "### documents formating"
      ]
    },
    {
      "cell_type": "code",
      "execution_count": null,
      "metadata": {
        "id": "i2fZZLDgxtPu"
      },
      "outputs": [],
      "source": [
        "document_objects = []\n",
        "\n",
        "for doc in products:\n",
        "    text_content = f\"\"\"\n",
        "      Product Name: {doc[\"name\"]}\n",
        "      Description: {doc[\"description\"]}\n",
        "      Price: ${doc[\"price\"]}\n",
        "      Reviews: {doc[\"reviews\"]} stars\n",
        "      Sales: {doc[\"sales\"]} units sold\n",
        "      Features: {', '.join(doc[\"features\"])}\n",
        "      \"\"\"\n",
        "\n",
        "    document_objects.append(Document(text=text_content))\n",
        "\n",
        "index = VectorStoreIndex.from_documents(document_objects)"
      ]
    },
    {
      "cell_type": "markdown",
      "metadata": {
        "id": "kFoBUbx_nJMJ"
      },
      "source": [
        "### LLM endpoint"
      ]
    },
    {
      "cell_type": "code",
      "execution_count": null,
      "metadata": {},
      "outputs": [],
      "source": [
        "Settings.llm = OpenAI(temperature=0, model=\"gpt-3.5-turbo\")\n",
        "Settings.chunk_size = 512"
      ]
    },
    {
      "cell_type": "code",
      "execution_count": null,
      "metadata": {
        "id": "kSrlRYAEWBSA"
      },
      "outputs": [],
      "source": [
        "index = VectorStoreIndex.from_documents(\n",
        "    document_objects,\n",
        ")"
      ]
    },
    {
      "cell_type": "code",
      "execution_count": null,
      "metadata": {
        "id": "cAYwonikXP8b"
      },
      "outputs": [],
      "source": [
        "# Re-rank method\n",
        "def get_retrieved_nodes(\n",
        "    query_str, vector_top_k=10, reranker_top_n=3, with_reranker=False\n",
        "):\n",
        "    query_bundle = QueryBundle(query_str)\n",
        "    # configure retriever\n",
        "    retriever = VectorIndexRetriever(\n",
        "        index=index,\n",
        "        similarity_top_k=vector_top_k,\n",
        "    )\n",
        "    retrieved_nodes = retriever.retrieve(query_bundle)\n",
        "\n",
        "    if with_reranker:\n",
        "        # configure re-ranker\n",
        "        reranker = RankGPTRerank(\n",
        "            llm=OpenAI(\n",
        "                model=\"gpt-3.5-turbo-16k\",\n",
        "                temperature=0.0,\n",
        "                api_key=os.environ[\"OPENAI_API_KEY\"],\n",
        "            ),\n",
        "            top_n=reranker_top_n,\n",
        "            verbose=True,\n",
        "        )\n",
        "        retrieved_nodes = reranker.postprocess_nodes(retrieved_nodes, query_bundle)\n",
        "\n",
        "    return retrieved_nodes"
      ]
    },
    {
      "cell_type": "code",
      "execution_count": null,
      "metadata": {},
      "outputs": [],
      "source": [
        "def visualize_retrieved_nodes(nodes):\n",
        "    result_dicts = []\n",
        "\n",
        "    for node in nodes:\n",
        "        result_dict = {\"Score\": node.score, \"Text\": node.node.get_text()}\n",
        "        result_dicts.append(result_dict)\n",
        "\n",
        "    return result_dicts"
      ]
    },
    {
      "cell_type": "markdown",
      "metadata": {
        "id": "PMFhgK9CXTze"
      },
      "source": [
        "### Without re-rank"
      ]
    },
    {
      "cell_type": "code",
      "execution_count": null,
      "metadata": {
        "colab": {
          "base_uri": "https://localhost:8080/",
          "height": 352
        },
        "id": "MNcpUJsKXZPK",
        "outputId": "58b4a8b9-a10f-4eae-f727-3268e953b806"
      },
      "outputs": [],
      "source": [
        "new_nodes = get_retrieved_nodes(\n",
        "    rerank_promt,\n",
        "    vector_top_k=12,\n",
        "    with_reranker=False,\n",
        ")\n",
        "\n",
        "results = visualize_retrieved_nodes(new_nodes[:3])\n",
        "\n",
        "print(f\"Top 3 results without reranking: {json.dumps(results, indent=2)}\")"
      ]
    },
    {
      "cell_type": "markdown",
      "metadata": {},
      "source": [
        "### With re-rank"
      ]
    },
    {
      "cell_type": "code",
      "execution_count": null,
      "metadata": {
        "colab": {
          "base_uri": "https://localhost:8080/",
          "height": 369
        },
        "id": "JXTnX6rrIa-D",
        "outputId": "c12b1e40-07b2-47b2-a3c9-fcbc1e81a47f"
      },
      "outputs": [],
      "source": [
        "new_nodes = get_retrieved_nodes(\n",
        "    rerank_promt,\n",
        "    vector_top_k=12,\n",
        "    reranker_top_n=3,\n",
        "    with_reranker=True,\n",
        ")\n",
        "\n",
        "results = visualize_retrieved_nodes(new_nodes[:3])\n",
        "print(f\"Top 3 results with reranking: {json.dumps(results, indent=2)}\")"
      ]
    },
    {
      "cell_type": "markdown",
      "metadata": {
        "id": "k7D6EHPdnpr1"
      },
      "source": [
        "## Elasticsearch re-rankers"
      ]
    },
    {
      "cell_type": "code",
      "execution_count": null,
      "metadata": {
        "id": "X0xbyG_fnoBU"
      },
      "outputs": [],
      "source": [
        "async def es_search(query):\n",
        "    response = _client.search(index=INDEX_NAME, body=query)\n",
        "    hits = response[\"hits\"][\"hits\"]\n",
        "\n",
        "    if not hits:\n",
        "        return \"\"\n",
        "\n",
        "    return json.dumps([hit[\"_source\"] for hit in hits], indent=2)"
      ]
    },
    {
      "cell_type": "code",
      "execution_count": null,
      "metadata": {},
      "outputs": [],
      "source": [
        "# Query with semantic search\n",
        "result = await es_search(\n",
        "    {\n",
        "        \"size\": 3,\n",
        "        \"query\": {\n",
        "            \"semantic\": {\n",
        "                \"field\": \"semantic_field\",\n",
        "                \"query\": rerank_promt,\n",
        "            }\n",
        "        },\n",
        "        \"_source\": {\n",
        "            \"includes\": [\n",
        "                \"name\",\n",
        "                \"description\",\n",
        "                \"price\",\n",
        "                \"reviews\",\n",
        "                \"sales\",\n",
        "                \"features\",\n",
        "            ]\n",
        "        },\n",
        "    }\n",
        ")\n",
        "\n",
        "print(f\"Query result: {result}\")"
      ]
    },
    {
      "cell_type": "code",
      "execution_count": null,
      "metadata": {
        "colab": {
          "base_uri": "https://localhost:8080/"
        },
        "id": "ME8w7MR4orci",
        "outputId": "c8495176-ef78-4fb2-8cd8-6ca6c25b0811"
      },
      "outputs": [],
      "source": [
        "results = await es_search(\n",
        "    {\n",
        "        \"size\": 3,\n",
        "        \"_source\": {\n",
        "            \"includes\": [\n",
        "                \"name\",\n",
        "                \"description\",\n",
        "                \"price\",\n",
        "                \"reviews\",\n",
        "                \"sales\",\n",
        "                \"features\",\n",
        "            ]\n",
        "        },\n",
        "        \"retriever\": {\n",
        "            \"text_similarity_reranker\": {\n",
        "                \"retriever\": {\n",
        "                    \"standard\": {\n",
        "                        \"query\": {\n",
        "                            \"semantic\": {\n",
        "                                \"field\": \"semantic_field\",\n",
        "                                \"query\": rerank_promt,\n",
        "                            }\n",
        "                        }\n",
        "                    }\n",
        "                },\n",
        "                \"field\": \"text\",\n",
        "                \"inference_id\": INFERENCE_RERANK_NAME,\n",
        "                \"inference_text\": rerank_promt,\n",
        "                \"rank_window_size\": 10,\n",
        "                \"min_score\": 0.5,\n",
        "            }\n",
        "        },\n",
        "    }\n",
        ")\n",
        "print(f\"Query result: {result}\")"
      ]
    },
    {
      "cell_type": "markdown",
      "metadata": {
        "id": "S6WZMJayyzxh"
      },
      "source": [
        "## Cleaning environment\n",
        "\n",
        "Delete the resources used to prevent them from consuming resources."
      ]
    },
    {
      "cell_type": "code",
      "execution_count": null,
      "metadata": {},
      "outputs": [],
      "source": [
        "def print_results(results):\n",
        "    if results.get(\"acknowledged\", False):\n",
        "        print(\"DELETED successfully.\")\n",
        "\n",
        "    if \"error\" in results:\n",
        "        print(f\"ERROR: {results['error']['root_cause'][0]['reason']}\")\n",
        "\n",
        "\n",
        "# Cleanup - Delete Index\n",
        "result = _client.indices.delete(index=INDEX_NAME, ignore=[400, 404])\n",
        "print_results(result)\n",
        "\n",
        "\n",
        "# Cleanup - Inference endpoint\n",
        "result = _client.inference.delete(inference_id=INFERENCE_RERANK_NAME, ignore=[400, 404])\n",
        "print_results(result)"
      ]
    }
  ],
  "metadata": {
    "colab": {
      "collapsed_sections": [
        "9lvPHaXjPlfu"
      ],
      "provenance": []
    },
    "kernelspec": {
      "display_name": "Python 3",
      "language": "python",
      "name": "python3"
    },
    "language_info": {
      "codemirror_mode": {
        "name": "ipython",
        "version": 3
      },
      "file_extension": ".py",
      "mimetype": "text/x-python",
      "name": "python",
      "nbconvert_exporter": "python",
      "pygments_lexer": "ipython3",
      "version": "3.12.2"
    }
  },
  "nbformat": 4,
  "nbformat_minor": 0
}
